{
 "cells": [
  {
   "cell_type": "code",
   "execution_count": 2,
   "id": "52f8397a",
   "metadata": {
    "scrolled": true
   },
   "outputs": [
    {
     "name": "stdout",
     "output_type": "stream",
     "text": [
      "Collecting torch\n",
      "  Using cached torch-2.0.1-cp311-cp311-win_amd64.whl (172.3 MB)\n",
      "Collecting filelock (from torch)\n",
      "  Using cached filelock-3.12.2-py3-none-any.whl (10 kB)\n",
      "Requirement already satisfied: typing-extensions in d:\\college\\projects\\gen_letter2\\env\\lib\\site-packages (from torch) (4.6.3)\n",
      "Collecting sympy (from torch)\n",
      "  Using cached sympy-1.12-py3-none-any.whl (5.7 MB)\n",
      "Collecting networkx (from torch)\n",
      "  Using cached networkx-3.1-py3-none-any.whl (2.1 MB)\n",
      "Requirement already satisfied: jinja2 in d:\\college\\projects\\gen_letter2\\env\\lib\\site-packages (from torch) (3.1.2)\n",
      "Requirement already satisfied: MarkupSafe>=2.0 in d:\\college\\projects\\gen_letter2\\env\\lib\\site-packages (from jinja2->torch) (2.1.1)\n",
      "Collecting mpmath>=0.19 (from sympy->torch)\n",
      "  Using cached mpmath-1.3.0-py3-none-any.whl (536 kB)\n",
      "Installing collected packages: mpmath, sympy, networkx, filelock, torch\n",
      "Successfully installed filelock-3.12.2 mpmath-1.3.0 networkx-3.1 sympy-1.12 torch-2.0.1\n",
      "Requirement already satisfied: matplotlib in d:\\college\\projects\\gen_letter2\\env\\lib\\site-packages (3.7.1)\n",
      "Requirement already satisfied: contourpy>=1.0.1 in d:\\college\\projects\\gen_letter2\\env\\lib\\site-packages (from matplotlib) (1.0.5)\n",
      "Requirement already satisfied: cycler>=0.10 in d:\\college\\projects\\gen_letter2\\env\\lib\\site-packages (from matplotlib) (0.11.0)\n",
      "Requirement already satisfied: fonttools>=4.22.0 in d:\\college\\projects\\gen_letter2\\env\\lib\\site-packages (from matplotlib) (4.25.0)\n",
      "Requirement already satisfied: kiwisolver>=1.0.1 in d:\\college\\projects\\gen_letter2\\env\\lib\\site-packages (from matplotlib) (1.4.4)\n",
      "Requirement already satisfied: numpy>=1.20 in d:\\college\\projects\\gen_letter2\\env\\lib\\site-packages (from matplotlib) (1.25.0)\n",
      "Requirement already satisfied: packaging>=20.0 in d:\\college\\projects\\gen_letter2\\env\\lib\\site-packages (from matplotlib) (23.0)\n",
      "Requirement already satisfied: pillow>=6.2.0 in d:\\college\\projects\\gen_letter2\\env\\lib\\site-packages (from matplotlib) (9.4.0)\n",
      "Requirement already satisfied: pyparsing>=2.3.1 in d:\\college\\projects\\gen_letter2\\env\\lib\\site-packages (from matplotlib) (3.0.9)\n",
      "Requirement already satisfied: python-dateutil>=2.7 in d:\\college\\projects\\gen_letter2\\env\\lib\\site-packages (from matplotlib) (2.8.2)\n",
      "Requirement already satisfied: six>=1.5 in d:\\college\\projects\\gen_letter2\\env\\lib\\site-packages (from python-dateutil>=2.7->matplotlib) (1.16.0)\n"
     ]
    }
   ],
   "source": [
    "# !pip install torch\n",
    "# !pip install matplotlib"
   ]
  },
  {
   "cell_type": "code",
   "execution_count": 3,
   "id": "7c4dd4e4",
   "metadata": {},
   "outputs": [],
   "source": [
    "import pandas as pd\n",
    "import torch\n",
    "import torch.nn.functional as F\n",
    "import matplotlib.pyplot as plt"
   ]
  },
  {
   "cell_type": "code",
   "execution_count": 4,
   "id": "0ee743aa",
   "metadata": {},
   "outputs": [],
   "source": [
    "# fixes issues with matplotlib\n",
    "import os    \n",
    "os.environ['KMP_DUPLICATE_LIB_OK'] = 'True'"
   ]
  },
  {
   "cell_type": "code",
   "execution_count": 5,
   "id": "95043528",
   "metadata": {},
   "outputs": [
    {
     "data": {
      "text/html": [
       "<div>\n",
       "<style scoped>\n",
       "    .dataframe tbody tr th:only-of-type {\n",
       "        vertical-align: middle;\n",
       "    }\n",
       "\n",
       "    .dataframe tbody tr th {\n",
       "        vertical-align: top;\n",
       "    }\n",
       "\n",
       "    .dataframe thead th {\n",
       "        text-align: right;\n",
       "    }\n",
       "</style>\n",
       "<table border=\"1\" class=\"dataframe\">\n",
       "  <thead>\n",
       "    <tr style=\"text-align: right;\">\n",
       "      <th></th>\n",
       "      <th>Unnamed: 0</th>\n",
       "      <th>0</th>\n",
       "    </tr>\n",
       "  </thead>\n",
       "  <tbody>\n",
       "    <tr>\n",
       "      <th>0</th>\n",
       "      <td>0</td>\n",
       "      <td>Pie_a_La_Mode</td>\n",
       "    </tr>\n",
       "    <tr>\n",
       "      <th>1</th>\n",
       "      <td>1</td>\n",
       "      <td>Celica_A_Mercury</td>\n",
       "    </tr>\n",
       "    <tr>\n",
       "      <th>2</th>\n",
       "      <td>2</td>\n",
       "      <td>Konoe_A_Mercury</td>\n",
       "    </tr>\n",
       "    <tr>\n",
       "      <th>3</th>\n",
       "      <td>3</td>\n",
       "      <td>Priapus_A_Tarou</td>\n",
       "    </tr>\n",
       "    <tr>\n",
       "      <th>4</th>\n",
       "      <td>4</td>\n",
       "      <td>Faalala_Aa_Larm</td>\n",
       "    </tr>\n",
       "  </tbody>\n",
       "</table>\n",
       "</div>"
      ],
      "text/plain": [
       "   Unnamed: 0                 0\n",
       "0           0     Pie_a_La_Mode\n",
       "1           1  Celica_A_Mercury\n",
       "2           2   Konoe_A_Mercury\n",
       "3           3   Priapus_A_Tarou\n",
       "4           4   Faalala_Aa_Larm"
      ]
     },
     "execution_count": 5,
     "metadata": {},
     "output_type": "execute_result"
    }
   ],
   "source": [
    "df = pd.read_csv('final_names.csv')\n",
    "df.head()"
   ]
  },
  {
   "cell_type": "code",
   "execution_count": 6,
   "id": "12c7ba3f",
   "metadata": {},
   "outputs": [
    {
     "name": "stdout",
     "output_type": "stream",
     "text": [
      "<class 'pandas.core.frame.DataFrame'>\n",
      "RangeIndex: 72776 entries, 0 to 72775\n",
      "Data columns (total 2 columns):\n",
      " #   Column      Non-Null Count  Dtype \n",
      "---  ------      --------------  ----- \n",
      " 0   Unnamed: 0  72776 non-null  int64 \n",
      " 1   0           72776 non-null  object\n",
      "dtypes: int64(1), object(1)\n",
      "memory usage: 1.1+ MB\n"
     ]
    }
   ],
   "source": [
    "df.info()"
   ]
  },
  {
   "cell_type": "code",
   "execution_count": 7,
   "id": "fc0d457e",
   "metadata": {},
   "outputs": [
    {
     "name": "stdout",
     "output_type": "stream",
     "text": [
      "<class 'pandas.core.frame.DataFrame'>\n",
      "RangeIndex: 72776 entries, 0 to 72775\n",
      "Data columns (total 1 columns):\n",
      " #   Column  Non-Null Count  Dtype \n",
      "---  ------  --------------  ----- \n",
      " 0   0       72776 non-null  object\n",
      "dtypes: object(1)\n",
      "memory usage: 568.7+ KB\n"
     ]
    }
   ],
   "source": [
    "df.drop('Unnamed: 0', axis = 1, inplace = True)\n",
    "df.info()"
   ]
  },
  {
   "cell_type": "code",
   "execution_count": 8,
   "id": "798b0618",
   "metadata": {},
   "outputs": [
    {
     "data": {
      "text/plain": [
       "0            Pie_a_La_Mode\n",
       "1         Celica_A_Mercury\n",
       "2          Konoe_A_Mercury\n",
       "3          Priapus_A_Tarou\n",
       "4          Faalala_Aa_Larm\n",
       "               ...        \n",
       "72771           Finn_Zweig\n",
       "72772    Albert_Zweinstein\n",
       "72773               Zwetti\n",
       "72774      Shenfa_Zwitoque\n",
       "72775       Dezember_Zwolf\n",
       "Name: 0, Length: 72776, dtype: object"
      ]
     },
     "execution_count": 8,
     "metadata": {},
     "output_type": "execute_result"
    }
   ],
   "source": [
    "df['0']"
   ]
  },
  {
   "cell_type": "code",
   "execution_count": 9,
   "id": "341cd4fc",
   "metadata": {},
   "outputs": [
    {
     "data": {
      "text/plain": [
       "['pie_a_la_mode',\n",
       " 'celica_a_mercury',\n",
       " 'konoe_a_mercury',\n",
       " 'priapus_a_tarou',\n",
       " 'faalala_aa_larm',\n",
       " 'torry_aaes',\n",
       " 'angel_aaltonen',\n",
       " 'diana_aaman',\n",
       " 'itsue_aasu',\n",
       " 'futaba_aasu',\n",
       " 'hitomi_aasu',\n",
       " 'nanase_aasu',\n",
       " 'mitsuki_aasu',\n",
       " 'mutsumi_aasu',\n",
       " 'shii_aasu',\n",
       " 'lashara_aasu_xxviii',\n",
       " 'kim_aba',\n",
       " 'iouri_abalkin',\n",
       " 'renji_abarai',\n",
       " 'ichika_abarai',\n",
       " 'robert_abarth',\n",
       " 'kikunosuke_abashiri',\n",
       " 'naojirou_abashiri',\n",
       " 'daemon_abashiri',\n",
       " 'kichiza_abashiri',\n",
       " 'goemon_abashiri',\n",
       " 'naojiro_abashiri',\n",
       " 'youhei_abashiri',\n",
       " 'kinzou_abashiri',\n",
       " 'sosuke_abayama',\n",
       " 'leone_abbacchio',\n",
       " 'iino_abbav',\n",
       " 'fred_abberline',\n",
       " 'tiffany_abbot',\n",
       " 'judy_abbott',\n",
       " 'abbott',\n",
       " 'majorca_abbott',\n",
       " 'zach_abdullah',\n",
       " 'saki_abdusha',\n",
       " 'takaya_abe',\n",
       " 'takakazu_abe',\n",
       " 'katsuya_abe',\n",
       " 'narumi_abe',\n",
       " 'kakeru_abe',\n",
       " 'osamu_abe',\n",
       " 'shinzo_abe',\n",
       " 'mitsuru_abe',\n",
       " 'misae_abe',\n",
       " 'shousei_abe',\n",
       " 'shun_abe',\n",
       " 'tamotsu_abe',\n",
       " 'seimei_abe',\n",
       " 'rika_abe',\n",
       " 'takahiro_abe',\n",
       " 'kotarou_abe',\n",
       " 'gonji_abe',\n",
       " 'hiroshi_abe',\n",
       " 'jun_abe',\n",
       " 'tamaki_abe',\n",
       " 'nana_abe',\n",
       " 'shizue_abe',\n",
       " 'chikara_abe',\n",
       " 'aki_abe',\n",
       " 'an_abe',\n",
       " 'yukiyo_abe',\n",
       " 'yuri_abe',\n",
       " 'seimei_abe',\n",
       " 'maiko_abe',\n",
       " 'mario_abe',\n",
       " 'takeshi_abe',\n",
       " 'maria_abe',\n",
       " 'yuuki_abe',\n",
       " 'satomi_abe',\n",
       " 'takashi_abe',\n",
       " 'toshiyuki_abe',\n",
       " 'minami_abe',\n",
       " 'mashiro_abe',\n",
       " 'haruaki_abe',\n",
       " 'azumi_abe',\n",
       " 'tamotsu_abe',\n",
       " 'masahiro_abe',\n",
       " 'tsuruo_abe',\n",
       " 'yasuaki_abe_no',\n",
       " 'masahiro_abe_no',\n",
       " 'seimei_abe_no',\n",
       " 'yasutsugu_abe_no',\n",
       " 'wakana_abe_no',\n",
       " 'seimei_abe_no',\n",
       " 'haruakira_abe_no',\n",
       " 'seimei_abe_no',\n",
       " 'seimei_abe_no',\n",
       " 'seimei_abe_no',\n",
       " 'abe_no_udaijin',\n",
       " 'guy_valery_abeille',\n",
       " 'sou_abekawa',\n",
       " 'kashiwa_abekawa',\n",
       " 'sakura_abekawa',\n",
       " 'kazura_abekawa',\n",
       " 'kinako_abekawa',\n",
       " 'kotori_abekawa',\n",
       " 'takuya_abekawa',\n",
       " 'baron_abel',\n",
       " 'phoebus_abel',\n",
       " '_umi_abel',\n",
       " 'charlotte_abelfreyja_drossel',\n",
       " 'richter_abend',\n",
       " 'ruli_abendroht',\n",
       " 'maria_abeno',\n",
       " 'sousei_abeno',\n",
       " 'hirari_abeno',\n",
       " 'haruitsuki_abeno',\n",
       " 'harukatsu_abeno',\n",
       " 'donmei_abeno',\n",
       " 'misumiko_abeno',\n",
       " 'liana_aberal',\n",
       " 'maura_aberaldo',\n",
       " 'edward_aberline',\n",
       " 'reiji_abidani',\n",
       " 'yuu_abiko',\n",
       " 'yoshii_abiko',\n",
       " 'tsuneo_abiko',\n",
       " 'keishou_abiko',\n",
       " 'kirino_abiko',\n",
       " 'tokio_abiko',\n",
       " 'yajirou_abiru',\n",
       " 'seric_abis',\n",
       " 'aboji',\n",
       " 'motsu_aboshi',\n",
       " 'samojirou_aboshi',\n",
       " 'barry_abott',\n",
       " 'kasche_abradel',\n",
       " 'david_jehoahaz_abraham',\n",
       " 'samuel_abraham',\n",
       " 'ursula_abramov',\n",
       " 'blitz_t_abrams',\n",
       " 'menou_abrashar',\n",
       " 'lafiel_abriel',\n",
       " 'dusanyu_abriel',\n",
       " 'funae_abukawa',\n",
       " 'abukawa',\n",
       " 'zaku_abumi',\n",
       " 'koko_abunai',\n",
       " 'mika_abunai',\n",
       " 'bura_aburakata',\n",
       " 'shino_aburame',\n",
       " 'shibi_aburame',\n",
       " 'torune_aburame',\n",
       " 'muta_aburame',\n",
       " 'tatsuma_aburame',\n",
       " 'mosako_aburana',\n",
       " 'ayanojou_aburatsubo',\n",
       " 'seishirou_aburazaka',\n",
       " 'rod_abus',\n",
       " 'bjorn_abust',\n",
       " 'yonoku_abuta',\n",
       " 'tamotsu_abuyama',\n",
       " 'zeo_abyss',\n",
       " 'robert_accutrone',\n",
       " 'magnum_ace',\n",
       " 'saijou_ace',\n",
       " 'jon_ace',\n",
       " 'ibri_achaa',\n",
       " 'lieselotte_achenbach',\n",
       " 'charon_acheron',\n",
       " 'lisa_achika',\n",
       " 'don_achino',\n",
       " 'lil_achino',\n",
       " 'arbell_achino',\n",
       " 'salcho_achino',\n",
       " 'hockera_achino',\n",
       " 'campacino_achino',\n",
       " 'brindo_achino',\n",
       " 'ryuu_achiya',\n",
       " 'merald_achokeshe',\n",
       " 'inspector_acht',\n",
       " 'gillian_acht_parz',\n",
       " 'ara_acies',\n",
       " 'lillian_acker',\n",
       " 'ian_acker',\n",
       " 'mira_ackerman',\n",
       " 'mikasa_ackerman',\n",
       " 'father_ackerman',\n",
       " 'mother_ackerman',\n",
       " 'kenny_ackerman',\n",
       " 'kuchel_ackerman',\n",
       " 'kuza_ackerman',\n",
       " 'franz_ackerman',\n",
       " 'phil_ackman',\n",
       " 'willard_ackroyd',\n",
       " 'lawrence_ackroyd',\n",
       " 'verossa_acous',\n",
       " 'keyne_acqua',\n",
       " 'lise_acquin',\n",
       " 'benjamin_acquin',\n",
       " 'olivas_act',\n",
       " 'tooru_acura',\n",
       " 'akari_acura',\n",
       " 'shin_acura',\n",
       " 'chall_acustica',\n",
       " 'kisuke_adabashi',\n",
       " 'momo_adachi',\n",
       " 'emily_adachi',\n",
       " 'hana_adachi',\n",
       " 'mitsuru_adachi',\n",
       " 'tooru_adachi',\n",
       " 'you_adachi',\n",
       " 'isao_adachi',\n",
       " 'miho_adachi',\n",
       " 'adachi',\n",
       " 'misaki_adachi',\n",
       " 'adachi',\n",
       " 'rika_adachi',\n",
       " 'eiko_adachi',\n",
       " 'sakura_adachi',\n",
       " 'teruki_adachi',\n",
       " 'taeko_adachi',\n",
       " 'masahiro_adachi',\n",
       " 'saneyasu_adachi',\n",
       " 'tenka_adachi',\n",
       " 'terufusa_adachi',\n",
       " 'shingo_adachi',\n",
       " 'kouzou_adachi',\n",
       " 'ryouzen_adachi',\n",
       " 'yasuhiro_adachi',\n",
       " 'shouta_adachigahara',\n",
       " 'aki_adagaki',\n",
       " 'rossiu_adai',\n",
       " 'gimmy_adai',\n",
       " 'darry_adai',\n",
       " 'anton_adam',\n",
       " 'ted_a_adams',\n",
       " 'thomas_adams',\n",
       " 'ille_adams',\n",
       " 'elle_adams',\n",
       " 'jemmy_j_adams',\n",
       " 'kristin_adams',\n",
       " 'aaron_adams',\n",
       " 'allan_adams',\n",
       " 'edward_adams',\n",
       " 'william_adams',\n",
       " 'bob_adams',\n",
       " 'karol_adamski',\n",
       " 'ray_adas',\n",
       " 'heyar_adas',\n",
       " 'benio_adashino',\n",
       " 'saki_adashino',\n",
       " 'hyouga_adashino',\n",
       " 'hishiri_adashino',\n",
       " 'alice_adatara',\n",
       " 'rick_addison',\n",
       " 'kate_addleton',\n",
       " 'laisa_addleton',\n",
       " 'lilie_adean',\n",
       " 'chap_adel',\n",
       " 'coco_adel',\n",
       " 'monica_adenauer',\n",
       " 'mother_adenauer',\n",
       " 'father_adenauer',\n",
       " 'nadeshiko_adenokouji',\n",
       " 'shion_adenokouji',\n",
       " 'azami_adenokouji',\n",
       " 'wabisuke_adenokouji',\n",
       " 'nina_aderado',\n",
       " 'fredrik_ades',\n",
       " 'harb_adham',\n",
       " 'sarah_adiemus',\n",
       " 'tiffa_adill',\n",
       " 'scheris_adjani',\n",
       " 'gisele_adjani',\n",
       " 'chad_adkins',\n",
       " 'gauche_adlai',\n",
       " 'marie_adlai',\n",
       " 'irene_adler',\n",
       " 'carl_adler',\n",
       " 'lily_adler',\n",
       " 'marie_adler',\n",
       " 'irene_adler',\n",
       " 'jane_adler',\n",
       " 'jessica_adler',\n",
       " 'william_albert_adley',\n",
       " 'fumitan_admoss',\n",
       " 'mint_adnade',\n",
       " 'pursena_adorudia',\n",
       " 'terusena_adorudia',\n",
       " 'saga_adou',\n",
       " 'busias_adoula',\n",
       " 'marco_adriano',\n",
       " 'shique_aeland',\n",
       " 'shinta_aeler',\n",
       " 'kaito_aen',\n",
       " 'morrigan_aensland',\n",
       " 'reimu_aensland',\n",
       " 'lilith_aensland',\n",
       " 'lasse_aeon',\n",
       " 'lutile_afnar',\n",
       " 'scipio_africanus',\n",
       " 'ken_afro',\n",
       " 'deck_afta',\n",
       " 'terumi_afuro',\n",
       " 'mondo_agake',\n",
       " 'apollon_agana_belea',\n",
       " 'johan_agares',\n",
       " 'seekvaira_agares',\n",
       " 'yamato_agari',\n",
       " 'himiko_agari',\n",
       " 'yasuo_agarie',\n",
       " 'hiroshi_agasa',\n",
       " 'mimi_agasa',\n",
       " 'soujirou_agata',\n",
       " 'hikaru_agata',\n",
       " 'saaya_agata',\n",
       " 'maki_agata',\n",
       " 'nero_agata',\n",
       " 'yuuichi_agata',\n",
       " 'arishiana_agata',\n",
       " 'katsuhira_agata',\n",
       " 'maria_agata',\n",
       " 'atsuhiko_agata',\n",
       " 'soubi_agatsuma',\n",
       " 'mizuki_agatsuma',\n",
       " 'keisuke_agatsuma',\n",
       " 'yui_agatsuma',\n",
       " 'jun_agatsuma',\n",
       " 'zenitsu_agatsuma',\n",
       " 'chirol_agatsuma',\n",
       " 'rin_agawa',\n",
       " 'nanami_agawa',\n",
       " 'suguru_agawa',\n",
       " 'munenori_agawa',\n",
       " 'midori_agawa',\n",
       " 'mother_agawa',\n",
       " 'hana_agaya',\n",
       " 'kanata_age',\n",
       " 'mia_ageha',\n",
       " 'takeshi_ageha',\n",
       " 'aoi_ageha',\n",
       " 'riku_ageha',\n",
       " 'kei_agemaki',\n",
       " 'wako_agemaki',\n",
       " 'kumiko_agemaki',\n",
       " 'chiyoko_agemaki',\n",
       " 'moritomi_agemaki',\n",
       " 'ageha_agemaki',\n",
       " 'mary_agent',\n",
       " 'ntt_agent',\n",
       " 'masumi_ageo',\n",
       " 'amou_ageya',\n",
       " 'chan_agi',\n",
       " 'shougo_agi',\n",
       " 'jiro_agino',\n",
       " 'adelaide_aglaiarden',\n",
       " 'arianna_hayama_agliardi',\n",
       " 'azumi_agonoske',\n",
       " 'tsutsutaka_agoyamato',\n",
       " 'alister_agrew',\n",
       " 'gordon_agrippa',\n",
       " 'rai_aguni',\n",
       " 'kasane_agura',\n",
       " 'kyou_aguri',\n",
       " 'ryo_aguri',\n",
       " 'yukino_aguria',\n",
       " 'lydia_agute',\n",
       " 'urokai_agvain',\n",
       " 'jeong_ah_reum',\n",
       " 'umiko_ahagon',\n",
       " 'reina_aharen',\n",
       " 'wentzel_ahbe',\n",
       " 'tae-seon_ahn',\n",
       " 'byung_tae_ahn',\n",
       " 'min_ahn',\n",
       " 'dongmin_ahn',\n",
       " 'seop_ahn',\n",
       " 'seon_ahn',\n",
       " 'yiyoung_ahn',\n",
       " 'arisa_ahokainen',\n",
       " 'mika_ahonen',\n",
       " 'yulie_ahtreide',\n",
       " 'kresnik_ahtreide',\n",
       " 'miori_ai',\n",
       " 'rene_ai',\n",
       " 'uchiko_ai',\n",
       " 'lilo_ai',\n",
       " 'li_ai',\n",
       " 'jian_ai',\n",
       " 'shu_aiba',\n",
       " 'yuuki_aiba',\n",
       " 'kouji_aiba',\n",
       " 'takaya_aiba',\n",
       " 'shinya_aiba',\n",
       " 'miyuki_aiba',\n",
       " 'gouhei_aiba',\n",
       " 'hideo_aiba',\n",
       " 'kengo_aiba',\n",
       " 'kouza_aiba',\n",
       " 'ruri_aiba',\n",
       " 'aoi_aiba',\n",
       " 'mother_aiba',\n",
       " 'father_aiba',\n",
       " 'matsuri_aiba',\n",
       " 'asagi_aiba',\n",
       " 'mui_aiba',\n",
       " 'tsuganashi_aiba',\n",
       " 'izumi_aiba',\n",
       " 'migisuke_aiba',\n",
       " 'izou_aiba',\n",
       " 'mitsuru_aiba',\n",
       " 'kazuomi_aiba',\n",
       " 'yumi_aiba',\n",
       " 'kaito_aiba',\n",
       " 'takanobu_aiba',\n",
       " 'hidenori_aiba',\n",
       " 'mother_aiba',\n",
       " 'father_aiba',\n",
       " 'takumi_aiba',\n",
       " 'rui_aiba',\n",
       " 'manami_aiba',\n",
       " 'aiba',\n",
       " 'manami_aibara',\n",
       " 'riku_aibetsu',\n",
       " 'ren_aibu',\n",
       " 'eclair_acleir_aicler',\n",
       " 'marshall_aid',\n",
       " 'kensuke_aida',\n",
       " 'hiro_aida',\n",
       " 'rendou_aida',\n",
       " 'riho_aida',\n",
       " 'rion_aida',\n",
       " 'gozo_aida',\n",
       " 'hikoichi_aida',\n",
       " 'soyo_aida',\n",
       " 'kazuo_aida',\n",
       " 'yurume_aida',\n",
       " 'riko_aida',\n",
       " 'nonoka_aida',\n",
       " 'mitsue_aida',\n",
       " 'shizuka_aida',\n",
       " 'hibiki_aida',\n",
       " 'souichi_aida',\n",
       " 'shouko_aida',\n",
       " 'miyu_aida',\n",
       " 'hisako_aida',\n",
       " 'shizuna_aida',\n",
       " 'orine_aida',\n",
       " 'makoto_aida',\n",
       " 'yayoi_aida',\n",
       " 'mother_aida',\n",
       " 'kagetora_aida',\n",
       " 'gou_aida',\n",
       " 'mana_aida',\n",
       " 'chikara_aida',\n",
       " 'sanae__aida',\n",
       " 'kentarou_aida',\n",
       " 'ayumi_aida',\n",
       " 'takashi_aida',\n",
       " 'miou_aida',\n",
       " 'aoi_aida',\n",
       " 'itoshi_aida',\n",
       " 'aida',\n",
       " 'makoto_aida',\n",
       " 'akira_aida',\n",
       " 'kouji_aida',\n",
       " 'satoru_aida',\n",
       " 'seiichirou_aida',\n",
       " 'naoyuki_aida',\n",
       " 'momoko_aida',\n",
       " 'kai_aida',\n",
       " 'tooru_aida',\n",
       " 'ichigo_aida',\n",
       " 'manami_aida',\n",
       " 'tokihisa_aido',\n",
       " 'makoto_aido',\n",
       " 'seiya_aido',\n",
       " 'hades_aidoneus',\n",
       " 'sou_aidoru',\n",
       " 'hanabusa_aidou',\n",
       " 'tsukiko_aidou',\n",
       " 'misty_aidu',\n",
       " 'saburou_aiga',\n",
       " 'yuzuha_aigae',\n",
       " 'kameyan_aigame',\n",
       " 'kohana_aigasaki',\n",
       " 'sakura_aigasaki',\n",
       " 'yashi_aighe',\n",
       " 'harutomo_aiha',\n",
       " 'etsu_aihana',\n",
       " 'kazumi_aihara',\n",
       " 'kazuki_aihara',\n",
       " 'nana_aihara',\n",
       " 'yuki_aihara',\n",
       " 'kotoko_aihara',\n",
       " 'shigeo_aihara',\n",
       " 'toru_aihara',\n",
       " 'tomoka_aihara',\n",
       " 'takuto_aihara',\n",
       " 'kouichi_aihara',\n",
       " 'miho_aihara',\n",
       " 'akira_aihara',\n",
       " 'ryo_aihara',\n",
       " 'akari_aihara',\n",
       " 'nanna_aihara',\n",
       " 'kaori_aihara',\n",
       " 'hikaru_aihara',\n",
       " 'takeru_aihara',\n",
       " 'masaru_aihara',\n",
       " 'wataru_aihara',\n",
       " 'yoshikazu_aihara',\n",
       " 'minami_aihara',\n",
       " 'aihara',\n",
       " 'aihara',\n",
       " 'kyoko_aihara',\n",
       " 'chiaki_aihara',\n",
       " 'enju_aihara',\n",
       " 'saki__aihara',\n",
       " 'mei_aihara',\n",
       " 'yuzu_aihara',\n",
       " 'makino_aihara',\n",
       " 'miki_aihara',\n",
       " 'rachel_aihara',\n",
       " 'nina_aihara',\n",
       " 'ai_aihara',\n",
       " 'marie_aihara',\n",
       " 'airi_aihara',\n",
       " 'minoru_aihara',\n",
       " 'misaki_aihara',\n",
       " 'aiko_aihara',\n",
       " 'natsume_aihara',\n",
       " 'grace_aihara',\n",
       " 'shou_aihara',\n",
       " 'ume_aihara',\n",
       " 'miku_aihara',\n",
       " 'shingo_aihara',\n",
       " 'eiji_aihara',\n",
       " 'mao_aihara',\n",
       " 'hisca_aiheap',\n",
       " 'chastel_aiheap',\n",
       " 'seira_aihoshi',\n",
       " 'poe_aijee',\n",
       " 'aijima',\n",
       " 'cecil_aijima',\n",
       " 'karen_aijou',\n",
       " 'rentarou_aijou',\n",
       " 'maki_aika',\n",
       " 'akane_aikawa',\n",
       " 'momo_aikawa',\n",
       " 'love_aikawa',\n",
       " 'maki_aikawa',\n",
       " 'kazuhiko_aikawa',\n",
       " 'hinako_aikawa',\n",
       " 'yuu_aikawa',\n",
       " 'eri_aikawa',\n",
       " 'rami_aikawa',\n",
       " 'yuri_aikawa',\n",
       " 'minori_aikawa',\n",
       " 'kizuna_aikawa',\n",
       " 'toru_aikawa',\n",
       " 'jun_aikawa',\n",
       " 'towa_aikawa',\n",
       " 'kuon_aikawa',\n",
       " 'nagahisa_aikawa',\n",
       " 'taeko_aikawa',\n",
       " 'momoko_aikawa',\n",
       " 'ayumu_aikawa',\n",
       " 'yoji_aikawa',\n",
       " 'makoto_aikawa',\n",
       " 'hiroya_aikawa',\n",
       " 'chocolat_aikawa',\n",
       " 'wataru_aikawa',\n",
       " 'shuuga_aikawa',\n",
       " 'shinnosuke_aikawa',\n",
       " 'yumi_aikawa',\n",
       " 'maki_aikawa',\n",
       " 'yumi_aikawa',\n",
       " 'kiyoka_aikawa',\n",
       " 'aikawa',\n",
       " 'chiho_aikawa',\n",
       " 'miyuu_aikawa',\n",
       " 'moe_aikawa',\n",
       " 'mother_aikawa',\n",
       " 'shizuku_aikawa',\n",
       " 'touya_aikawa',\n",
       " 'midori_aikawa',\n",
       " 'masato_aikawa',\n",
       " 'tsubaki_aikawa',\n",
       " 'dr_takeshi_aikawa',\n",
       " 'sayuki_aikawa',\n",
       " 'hiroki_aikawa',\n",
       " 'yuria_aikawa',\n",
       " 'ikumi_aikawa',\n",
       " 'masaru_aikawa',\n",
       " 'kenta_aikawa',\n",
       " 'makino_aikawa',\n",
       " 'misaki_aikawa',\n",
       " 'mao_aikawa',\n",
       " 'ayu_aikawa',\n",
       " 'sousuke_aikawa',\n",
       " 'ren_aikawa',\n",
       " 'mr_aikawa',\n",
       " 'tsukiya_aikawa',\n",
       " 'etsuko_aikawa',\n",
       " 'mamoru_aikawa',\n",
       " 'mother_aikawa',\n",
       " 'eri_aikawa',\n",
       " 'aiki',\n",
       " 'tokie_aikou',\n",
       " 'yasuki_aikou',\n",
       " 'rika_aikyou',\n",
       " 'kanako_aikyou',\n",
       " 'stahn_aileron',\n",
       " 'lilith_aileron',\n",
       " 'kaphisilia_ailide',\n",
       " 'miguel_aiman',\n",
       " 'lane_aime',\n",
       " 'lily_aimee',\n",
       " 'jyushi_aimono',\n",
       " 'rinku_aimoto',\n",
       " 'rumika_aina',\n",
       " 'fon_aina_sulfur',\n",
       " 'lakyus_alvein_dale_aindra',\n",
       " 'philphie_aingram',\n",
       " 'relie_aingram',\n",
       " 'minako_aino',\n",
       " 'ai_aino',\n",
       " 'akira_aino',\n",
       " 'heart_aino',\n",
       " 'mina_aino',\n",
       " 'megumi_aino',\n",
       " 'seiji_aino',\n",
       " 'kaori_aino',\n",
       " 'shuuji_aino',\n",
       " 'masaru_aino',\n",
       " 'akua_aino',\n",
       " 'nozomi_aino',\n",
       " 'itsuki_aino',\n",
       " 'grodek_ainoa',\n",
       " 'luke_ainsworth',\n",
       " 'rita_ainsworth',\n",
       " 'elias_ainsworth',\n",
       " 'julian_ainsworth',\n",
       " 'erika_ainsworth',\n",
       " 'darius_ainsworth',\n",
       " 'zachary_ainsworth',\n",
       " 'celia_cumani_aintree',\n",
       " 'pluton_ainzach',\n",
       " 'momiji_aio',\n",
       " 'yuuko_aioi',\n",
       " 'mother_aioi',\n",
       " 'isshin_aioi',\n",
       " 'reina_aioi',\n",
       " 'aoi_aioi',\n",
       " 'akane_aioi',\n",
       " 'cleo_aiolos_corbeille_de_veil',\n",
       " 'darts_aira',\n",
       " 'boris_airay',\n",
       " 'amamiya_airi',\n",
       " 'jaina_airi-mishiki',\n",
       " 'izaya_luke_airishuu',\n",
       " 'sayo_aisaka',\n",
       " 'taiga_aisaka',\n",
       " 'hikaru_aisaka',\n",
       " 'rikurou_aisaka',\n",
       " 'yuu_aisaka',\n",
       " 'tsugumi_aisaka',\n",
       " 'emiru_aisaki',\n",
       " 'yachiyo_aisaki',\n",
       " 'landar_aisha',\n",
       " 'miyako_aishima',\n",
       " 'yuuki_aito',\n",
       " 'hana_aitou',\n",
       " 'yumi_aiura',\n",
       " 'kokoro_aiura',\n",
       " 'mikoto_aiura',\n",
       " 'loly_aivirrne',\n",
       " 'aoshi_aiyori',\n",
       " 'takeshi_aiza',\n",
       " 'nagi_aiza',\n",
       " 'mother_aiza',\n",
       " 'ai_aizankei',\n",
       " 'yuuichi_aizawa',\n",
       " 'risona_aizawa',\n",
       " 'ayumu_aizawa',\n",
       " 'junko_aizawa',\n",
       " 'mint_aizawa',\n",
       " 'shuuichi_aizawa',\n",
       " 'sakuya_aizawa',\n",
       " 'kyou_aizawa',\n",
       " 'minayo_aizawa',\n",
       " 'miyabi_aizawa',\n",
       " 'yamato_aizawa',\n",
       " 'ryota_aizawa',\n",
       " 'shuhei_aizawa',\n",
       " 'masanoshin_aizawa',\n",
       " 'sho_aizawa',\n",
       " 'kouichi_aizawa',\n",
       " 'yuu_aizawa',\n",
       " 'michiru_aizawa',\n",
       " 'taki_aizawa',\n",
       " 'haruna_aizawa',\n",
       " 'eriko_aizawa',\n",
       " 'tokito_aizawa',\n",
       " 'yasumi_aizawa',\n",
       " 'aya_aizawa',\n",
       " 'kakeru_aizawa',\n",
       " 'suguru_aizawa',\n",
       " 'chizuru_aizawa',\n",
       " 'aizawa',\n",
       " 'shouji_aizawa',\n",
       " 'mr_aizawa',\n",
       " 'shin_aizawa',\n",
       " 'tomomi_aizawa',\n",
       " 'momoka_aizawa',\n",
       " 'kotaro_aizawa',\n",
       " 'masayo_aizawa',\n",
       " 'eiko_aizawa',\n",
       " 'chizuru_aizawa',\n",
       " 'takeru_aizawa',\n",
       " 'natsuki_aizawa',\n",
       " 'haruna_aizawa',\n",
       " 'hajime_aizawa',\n",
       " 'futaba_aizawa',\n",
       " 'shouko_aizawa',\n",
       " 'yousuke_aizawa',\n",
       " 'natsumi_aizawa',\n",
       " 'himeno_aizawa',\n",
       " 'mrs_aizawa',\n",
       " 'mito_aizawa',\n",
       " 'father_aizawa',\n",
       " 'mother_aizawa',\n",
       " 'minami_aizawa',\n",
       " 'eri_aizawa',\n",
       " 'suzuka_aizawa',\n",
       " 'daiki_aizawa',\n",
       " 'yuuichi_aizawa',\n",
       " 'suzuka_aizawa',\n",
       " 'kotomi_aizawa',\n",
       " 'yukito_aizawa',\n",
       " 'yume_aizawa',\n",
       " 'aizawa',\n",
       " 'itsuki_aizawa',\n",
       " 'aizawa',\n",
       " 'chiaki_aizawa',\n",
       " 'akira_aizawa',\n",
       " 'hinata_aizawa',\n",
       " 'asato_aizawa',\n",
       " 'yumi_aizawa',\n",
       " 'eriko_aizawa',\n",
       " 'naoki_aizawa',\n",
       " 'remon_aizawa',\n",
       " 'nanoka_aizawa',\n",
       " 'kyouichirou_aizawa',\n",
       " 'akane_aizawa',\n",
       " 'shino_aizawa',\n",
       " 'kaito_aizawa',\n",
       " 'yuki_aizawa',\n",
       " 'shiki_aizawa',\n",
       " 'hami_aizawa',\n",
       " 'tomoko_aizawa',\n",
       " 'mamoru_aizawa',\n",
       " 'nagisa_aizawa',\n",
       " 'keiichirou_aizawa',\n",
       " 'shouta_aizawa',\n",
       " 'eisuke_aizawa',\n",
       " 'junichi_aizawa',\n",
       " 'miku_aizawa',\n",
       " 'momoka_aizawa',\n",
       " 'youji_aizawa',\n",
       " 'tomo_aizawa',\n",
       " 'eiichi_aizawa',\n",
       " 'yuu_aizawa',\n",
       " 'kon_aizawa',\n",
       " 'yuyu_aizawa',\n",
       " 'yaya_aizawa',\n",
       " 'kaoru_aizawa',\n",
       " 'motoki_aizawa',\n",
       " 'nozomi_aizawa',\n",
       " 'kanae_aizawa',\n",
       " 'kei_aizawa',\n",
       " 'akemi_aizawa',\n",
       " 'gorou_aizawa',\n",
       " 'ayumi_aizawa',\n",
       " 'jin_aizawa',\n",
       " 'junna_aizawa',\n",
       " 'hibiki_aizawa',\n",
       " 'manaha_aizawa',\n",
       " 'shuuichirou_aizawa',\n",
       " 'suguru_aizawa',\n",
       " 'yurie_aizawa',\n",
       " 'kouichi_aizawa',\n",
       " 'tsuyoshi_aizawa',\n",
       " 'ayumu_aizawa',\n",
       " 'minori_aizawa',\n",
       " 'kanan_aizawa',\n",
       " 'sayo_aizawa',\n",
       " 'ryou_aizawa',\n",
       " 'kouhei_aizawa',\n",
       " 'jin_aizawa',\n",
       " 'aizawa-san',\n",
       " 'sousuke_aizen',\n",
       " 'teppa_aizen',\n",
       " 'yukihito_aizen',\n",
       " 'rio_aizen',\n",
       " 'rinna_aizen',\n",
       " 'airin_aizenhawa',\n",
       " 'kento_aizome',\n",
       " 'ryouichi_aizono',\n",
       " 'issei_aizono',\n",
       " 'kotone_aizuhara',\n",
       " 'touka_aizuki',\n",
       " 'haruto_aizuma',\n",
       " 'kikko_aizumi',\n",
       " 'loretta_aja',\n",
       " 'kazahana_aja',\n",
       " 'matilda_ajan',\n",
       " 'bellin_ajelli',\n",
       " 'ruru_ajesu',\n",
       " 'gelgog_aji',\n",
       " 'yuki_ajiadou',\n",
       " 'karala_ajiba',\n",
       " 'harulu_ajiba',\n",
       " 'doba_ajiba',\n",
       " 'youko_ajikata',\n",
       " 'yoshio_ajikawa',\n",
       " 'shu_ajiki',\n",
       " 'najimi_ajimu',\n",
       " 'sousuke_ajino',\n",
       " 'ryoka_ajiun',\n",
       " 'youichi_ajiyoshi',\n",
       " 'jinsaku_ajou',\n",
       " 'ajussi',\n",
       " 'aoki_aka',\n",
       " 'keiji_akaashi',\n",
       " 'hayato_akaba',\n",
       " 'chizuru_akaba',\n",
       " 'reiji_akaba',\n",
       " 'leo_akaba',\n",
       " 'himika_akaba',\n",
       " 'reira_akaba',\n",
       " 'ray_akaba',\n",
       " 'teiichi_akaba',\n",
       " 'aiga_akaba',\n",
       " 'kuroudo_akabane',\n",
       " 'kureha_akabane',\n",
       " 'raishin_akabane',\n",
       " 'aya_akabane',\n",
       " 'saya_akabane',\n",
       " 'karma_akabane',\n",
       " 'nadeshiko_akabane',\n",
       " 'yuu_akabane',\n",
       " 'eiri_akabane',\n",
       " 'shieru_akabane',\n",
       " 'ran_akabane',\n",
       " 'kagura_akabane',\n",
       " 'fuyou_akabane',\n",
       " 'ryou_akabane',\n",
       " 'ichi_akabane',\n",
       " 'ringo_akabane',\n",
       " 'tsubaki_akabane',\n",
       " 'futami_akabane',\n",
       " 'yuki_akabane',\n",
       " 'mizuki_akabayashi',\n",
       " 'mizuki_akabayashi',\n",
       " 'gorou_akabishi',\n",
       " 'shoji_akaboshi',\n",
       " 'kokuhaku_akaboshi',\n",
       " 'koume_akaboshi',\n",
       " 'nozomi_akaboshi',\n",
       " 'kenichi_akada',\n",
       " 'akadama',\n",
       " 'yoroi_akado',\n",
       " 'manabu_akado',\n",
       " 'harue_akado',\n",
       " 'tamao_akae',\n",
       " 'katyusha_akae',\n",
       " 'chihiro_akafuda',\n",
       " 'rion_akagami',\n",
       " 'iria_akagami',\n",
       " 'taiyo_akagawa',\n",
       " 'takenori_akagi',\n",
       " 'ritsuko_akagi',\n",
       " 'shigeru_akagi',\n",
       " 'haruko_akagi',\n",
       " 'shunsuke_akagi',\n",
       " 'naoko_akagi',\n",
       " 'kouta_akagi',\n",
       " 'katsumi_akagi',\n",
       " 'kouhei_akagi',\n",
       " 'sena_akagi',\n",
       " 'akagi',\n",
       " 'chinatsu_akagi',\n",
       " 'gunma_akagi',\n",
       " 'souichirou_akagi',\n",
       " 'shouma_akagi',\n",
       " 'yuuma_akagi',\n",
       " 'hideo_akagi',\n",
       " 'shouhei_akagi',\n",
       " 'ryuuji_akagi',\n",
       " 'midori_akagi',\n",
       " 'retsu_akagi',\n",
       " 'tooru_akagi',\n",
       " 'hikaru_akagi',\n",
       " 'sakura_akagi',\n",
       " 'yousuke_akagi',\n",
       " 'koremitsu_akagi',\n",
       " 'miria_akagi',\n",
       " 'eiji_akagi',\n",
       " 'keijiro_akagi',\n",
       " 'kimie_akagi',\n",
       " 'ryouko_akagi',\n",
       " 'mamoru_akagi',\n",
       " 'tadashi_akagi',\n",
       " 'gaju_akagi',\n",
       " 'mako_akagi',\n",
       " 'alfred_akagi',\n",
       " 'aya_akagi',\n",
       " 'kouhei_akagi',\n",
       " 'towa_akagi',\n",
       " 'mother_akagi',\n",
       " 'keiichi__akagi',\n",
       " 'ryouto_akagi',\n",
       " 'masafumi_akagi',\n",
       " 'piston_akagi',\n",
       " 'julia_akagi',\n",
       " 'mamoru_akagi',\n",
       " 'an_akagi',\n",
       " 'anna_akagi',\n",
       " 'michinari_akagi',\n",
       " 'kanata_akagi',\n",
       " 'eiji_akagi',\n",
       " 'arashi_akagi',\n",
       " 'antaro_akagi',\n",
       " 'yousuke_akagi',\n",
       " 'shuichi_akagi',\n",
       " 'saki_akagiri',\n",
       " 'basara_akagiyama',\n",
       " 'chizome_akaguro',\n",
       " 'juushou_akahaji',\n",
       " 'eiji_akahoshi',\n",
       " 'kankurou_akahoshi',\n",
       " 'tomomi_akahoshi',\n",
       " 'natsu_akahoshi',\n",
       " 'kengo_akahoshi',\n",
       " 'haruaki_akai',\n",
       " 'shino_akai',\n",
       " 'akai',\n",
       " 'nishinosuke_akai',\n",
       " 'shuuichi_akai',\n",
       " 'ringo_akai',\n",
       " 'rinsuke_akai',\n",
       " 'serika_akai',\n",
       " 'ringo_akai',\n",
       " 'akai',\n",
       " 'isamu_akai',\n",
       " 'takami_akai',\n",
       " 'hideo_akai',\n",
       " 'maho_akai',\n",
       " 'monta_akai',\n",
       " 'tonbo_akai',\n",
       " 'ryuuichi_akai',\n",
       " 'hiro_akai',\n",
       " 'kokoro_akai',\n",
       " 'hideo_akai',\n",
       " 'mochikuni_akai',\n",
       " 'meganee_akai',\n",
       " 'meganii_akai',\n",
       " 'anne_akai',\n",
       " 'itta_akai',\n",
       " 'tsubasa_akai',\n",
       " 'rinko_akai',\n",
       " 'mother_akai',\n",
       " 'father_akai',\n",
       " 'souta_akai',\n",
       " 'yuu_akai',\n",
       " 'haruko_akai',\n",
       " 'suzaku_akai',\n",
       " 'nagayori_akai',\n",
       " 'tomonori__akai',\n",
       " 'yoshikazu_akai',\n",
       " 'ryou_akai',\n",
       " 'tomohito_akai',\n",
       " 'kouhei_akai',\n",
       " 'tsutomu_akai',\n",
       " 'haato_akai',\n",
       " 'yuuji_akaike',\n",
       " 'gou_akaisawa',\n",
       " 'osamu_akaishi',\n",
       " 'teruko_akaiwa',\n",
       " 'dai_akakuma',\n",
       " 'kai_akakura',\n",
       " 'yuuto_akama',\n",
       " 'mitsuhiko_akama',\n",
       " 'sou_akama',\n",
       " 'omi_akamaru',\n",
       " 'jun_akamaru',\n",
       " 'ken_akamatsu',\n",
       " 'yoshio_akamatsu',\n",
       " 'yuri_akamatsu',\n",
       " 'shigeru_akamatsu',\n",
       " 'kaho_akamatsu',\n",
       " 'junpei_akamatsu',\n",
       " 'arundo_akamatsu',\n",
       " 'kumi_akamatsu',\n",
       " ...]"
      ]
     },
     "execution_count": 9,
     "metadata": {},
     "output_type": "execute_result"
    }
   ],
   "source": [
    "words = []\n",
    "for i in range(len(df)):\n",
    "    words.append((df.iloc[i, 0]).lower())\n",
    "\n",
    "words"
   ]
  },
  {
   "cell_type": "code",
   "execution_count": 10,
   "id": "52c56e65",
   "metadata": {},
   "outputs": [],
   "source": [
    "for i in range(len(words)):\n",
    "    if '-' in words[i]:\n",
    "        words[i] = words[i].replace('-', '_')"
   ]
  },
  {
   "cell_type": "code",
   "execution_count": 11,
   "id": "d6d7ff41",
   "metadata": {},
   "outputs": [],
   "source": [
    "temp = []\n",
    "for w in words:\n",
    "    if '#' not in w:\n",
    "        temp.append(w)\n",
    "\n",
    "words = temp.copy()"
   ]
  },
  {
   "cell_type": "code",
   "execution_count": 12,
   "id": "e13351bd",
   "metadata": {},
   "outputs": [
    {
     "data": {
      "text/plain": [
       "72775"
      ]
     },
     "execution_count": 12,
     "metadata": {},
     "output_type": "execute_result"
    }
   ],
   "source": [
    "len(words)"
   ]
  },
  {
   "cell_type": "code",
   "execution_count": 15,
   "id": "5ed64d78",
   "metadata": {
    "scrolled": true
   },
   "outputs": [
    {
     "data": {
      "text/plain": [
       "38"
      ]
     },
     "execution_count": 15,
     "metadata": {},
     "output_type": "execute_result"
    }
   ],
   "source": [
    "# mapping to & from characters and integers\n",
    "chars = sorted(list(set(''.join(words))))\n",
    "stoi = {s:i+1 for i, s in enumerate(chars)}\n",
    "stoi['.'] = 0\n",
    "itos = {i:s for s, i in stoi.items()}\n",
    "len(itos)"
   ]
  },
  {
   "cell_type": "code",
   "execution_count": 54,
   "id": "c014ebd2",
   "metadata": {},
   "outputs": [],
   "source": [
    "# prepare dataset\n",
    "block_size = 3 # context length: how many characters we take to predict the next one\n",
    "X, y = [], []\n",
    "for w in words:\n",
    "#     print(w)\n",
    "    context = [0]*block_size\n",
    "    for ch in w + '.':\n",
    "        ix = stoi[ch]\n",
    "        X.append(context)\n",
    "        y.append(ix)\n",
    "#         print(''.join(itos[i] for i in context), '========>', itos[ix])\n",
    "        context = context[1:] + [ix]\n",
    "\n",
    "X = torch.tensor(X)\n",
    "y = torch.tensor(y)"
   ]
  },
  {
   "cell_type": "code",
   "execution_count": 55,
   "id": "ec50a811",
   "metadata": {},
   "outputs": [
    {
     "data": {
      "text/plain": [
       "(torch.Size([1042819, 3]), torch.int64)"
      ]
     },
     "execution_count": 55,
     "metadata": {},
     "output_type": "execute_result"
    }
   ],
   "source": [
    "X.shape, X.dtype"
   ]
  },
  {
   "cell_type": "code",
   "execution_count": 56,
   "id": "cb8098d4",
   "metadata": {},
   "outputs": [
    {
     "data": {
      "text/plain": [
       "(torch.Size([1042819]), torch.int64)"
      ]
     },
     "execution_count": 56,
     "metadata": {},
     "output_type": "execute_result"
    }
   ],
   "source": [
    "y.shape, y.dtype"
   ]
  },
  {
   "cell_type": "code",
   "execution_count": 19,
   "id": "b7096116",
   "metadata": {
    "scrolled": true
   },
   "outputs": [
    {
     "data": {
      "text/plain": [
       "tensor([[ 6.5009e-01,  1.6733e-01],\n",
       "        [-1.0396e+00,  2.1790e+00],\n",
       "        [ 4.4110e-01,  3.9510e-01],\n",
       "        [-1.5272e+00, -1.4449e+00],\n",
       "        [ 1.3270e+00,  1.6394e+00],\n",
       "        [ 2.9017e-01,  6.8595e-01],\n",
       "        [ 1.4853e-01, -2.6408e-01],\n",
       "        [-5.7762e-01, -2.3435e+00],\n",
       "        [-2.8053e-01,  5.1451e-01],\n",
       "        [ 9.4628e-02,  1.1092e+00],\n",
       "        [-2.1508e-01, -3.8634e-01],\n",
       "        [ 1.2393e+00,  9.7299e-01],\n",
       "        [ 2.1992e-01,  1.0256e+00],\n",
       "        [-7.9312e-04, -3.9960e-01],\n",
       "        [-2.6044e-02,  1.0016e+00],\n",
       "        [ 4.7828e-01,  1.1017e-01],\n",
       "        [ 1.3029e+00, -4.4513e-01],\n",
       "        [ 2.6314e-01, -1.5460e+00],\n",
       "        [-4.1018e-02,  1.9205e-02],\n",
       "        [-1.2284e+00, -8.9428e-01],\n",
       "        [ 2.9699e-01,  3.3118e-01],\n",
       "        [-6.8983e-01,  1.9791e-01],\n",
       "        [-1.3371e+00,  8.8262e-01],\n",
       "        [ 2.0143e-01, -1.1551e+00],\n",
       "        [-1.2639e+00,  1.5082e+00],\n",
       "        [-8.7264e-02, -6.5234e-01],\n",
       "        [-3.2751e-01,  2.7271e-01],\n",
       "        [ 4.9721e-01,  1.3795e+00],\n",
       "        [-1.4168e+00,  1.5394e+00],\n",
       "        [ 6.5739e-01,  1.5115e+00],\n",
       "        [-4.5051e-02, -2.6618e+00],\n",
       "        [-8.2736e-01,  1.0306e+00],\n",
       "        [ 6.6168e-01, -1.1910e+00],\n",
       "        [-8.1374e-01, -2.3828e-01],\n",
       "        [ 3.5979e-01,  5.6048e-01],\n",
       "        [-7.2614e-01, -7.1640e-01],\n",
       "        [-9.5547e-02, -4.9417e-01],\n",
       "        [ 4.3418e-01,  1.1309e+00]])"
      ]
     },
     "execution_count": 19,
     "metadata": {},
     "output_type": "execute_result"
    }
   ],
   "source": [
    "C = torch.randn((38, 2))\n",
    "C"
   ]
  },
  {
   "cell_type": "code",
   "execution_count": 20,
   "id": "19734283",
   "metadata": {},
   "outputs": [
    {
     "data": {
      "text/plain": [
       "tensor([-1.5272, -1.4449])"
      ]
     },
     "execution_count": 20,
     "metadata": {},
     "output_type": "execute_result"
    }
   ],
   "source": [
    "C[3] # accessing embedding of 3rd character"
   ]
  },
  {
   "cell_type": "code",
   "execution_count": 25,
   "id": "ea76d1c2",
   "metadata": {},
   "outputs": [
    {
     "data": {
      "text/plain": [
       "tensor([-1.5272, -1.4449])"
      ]
     },
     "execution_count": 25,
     "metadata": {},
     "output_type": "execute_result"
    }
   ],
   "source": [
    "F.one_hot(torch.tensor(3), num_classes = 38).float() @ C # accessing embedding of 3rd character. SLOWER"
   ]
  },
  {
   "cell_type": "markdown",
   "id": "dd027349",
   "metadata": {},
   "source": [
    "#### embedding "
   ]
  },
  {
   "cell_type": "code",
   "execution_count": 26,
   "id": "ef5af3a2",
   "metadata": {},
   "outputs": [
    {
     "data": {
      "text/plain": [
       "torch.Size([14, 3, 2])"
      ]
     },
     "execution_count": 26,
     "metadata": {},
     "output_type": "execute_result"
    }
   ],
   "source": [
    "emb = C[X]\n",
    "emb.shape"
   ]
  },
  {
   "cell_type": "code",
   "execution_count": 27,
   "id": "0835dcde",
   "metadata": {},
   "outputs": [],
   "source": [
    "W1 = torch.randn((6, 100))\n",
    "b1 = torch.randn(100)"
   ]
  },
  {
   "cell_type": "code",
   "execution_count": 29,
   "id": "30b0c26c",
   "metadata": {},
   "outputs": [
    {
     "data": {
      "text/plain": [
       "tensor([[-0.2796, -0.3900, -0.7792,  ..., -0.1263,  0.6705,  0.7139],\n",
       "        [ 0.5581, -0.1381, -0.5503,  ..., -0.9595,  0.7400,  0.9977],\n",
       "        [ 0.9308, -0.7882,  0.7210,  ..., -0.5095, -0.5339,  0.9924],\n",
       "        ...,\n",
       "        [ 0.9658, -0.4338,  0.9792,  ..., -0.3834,  0.5835, -0.7429],\n",
       "        [ 0.5861, -0.6540, -0.8507,  ...,  0.9798,  0.1721,  0.7594],\n",
       "        [-0.9358, -0.9844, -0.9275,  ...,  0.9836,  0.6004,  0.2058]])"
      ]
     },
     "execution_count": 29,
     "metadata": {},
     "output_type": "execute_result"
    }
   ],
   "source": [
    "h = torch.tanh(emb.view(emb.shape[0], 6) @ W1 + b1)\n",
    "h"
   ]
  },
  {
   "cell_type": "code",
   "execution_count": 30,
   "id": "8654ff17",
   "metadata": {},
   "outputs": [
    {
     "data": {
      "text/plain": [
       "torch.Size([14, 100])"
      ]
     },
     "execution_count": 30,
     "metadata": {},
     "output_type": "execute_result"
    }
   ],
   "source": [
    "h.shape"
   ]
  },
  {
   "cell_type": "code",
   "execution_count": 31,
   "id": "16840af2",
   "metadata": {},
   "outputs": [],
   "source": [
    "W2 = torch.randn((100, 38))\n",
    "b2 = torch.randn(38)"
   ]
  },
  {
   "cell_type": "code",
   "execution_count": 32,
   "id": "a92abb4c",
   "metadata": {},
   "outputs": [],
   "source": [
    "logits = h @ W2 + b2"
   ]
  },
  {
   "cell_type": "code",
   "execution_count": 38,
   "id": "fc4fb432",
   "metadata": {},
   "outputs": [
    {
     "data": {
      "text/plain": [
       "torch.Size([14, 38])"
      ]
     },
     "execution_count": 38,
     "metadata": {},
     "output_type": "execute_result"
    }
   ],
   "source": [
    "logits.shape"
   ]
  },
  {
   "cell_type": "code",
   "execution_count": 39,
   "id": "57b0346d",
   "metadata": {},
   "outputs": [],
   "source": [
    "counts = logits.exp()"
   ]
  },
  {
   "cell_type": "code",
   "execution_count": 42,
   "id": "a34abd63",
   "metadata": {},
   "outputs": [],
   "source": [
    "prob = counts / counts.sum(1, keepdim = True)"
   ]
  },
  {
   "cell_type": "code",
   "execution_count": 43,
   "id": "30579478",
   "metadata": {},
   "outputs": [
    {
     "data": {
      "text/plain": [
       "torch.Size([14, 38])"
      ]
     },
     "execution_count": 43,
     "metadata": {},
     "output_type": "execute_result"
    }
   ],
   "source": [
    "prob.shape"
   ]
  },
  {
   "cell_type": "code",
   "execution_count": 44,
   "id": "8c349eef",
   "metadata": {},
   "outputs": [
    {
     "data": {
      "text/plain": [
       "tensor(17.5523)"
      ]
     },
     "execution_count": 44,
     "metadata": {},
     "output_type": "execute_result"
    }
   ],
   "source": [
    "loss = -prob[torch.arange(14), y].log().mean()\n",
    "loss"
   ]
  },
  {
   "cell_type": "markdown",
   "id": "fe803f28",
   "metadata": {},
   "source": [
    "### clean code"
   ]
  },
  {
   "cell_type": "code",
   "execution_count": 57,
   "id": "c02941de",
   "metadata": {},
   "outputs": [
    {
     "data": {
      "text/plain": [
       "(torch.Size([1042819, 3]), torch.Size([1042819]))"
      ]
     },
     "execution_count": 57,
     "metadata": {},
     "output_type": "execute_result"
    }
   ],
   "source": [
    "X.shape, y.shape"
   ]
  },
  {
   "cell_type": "code",
   "execution_count": 135,
   "id": "589f6d36",
   "metadata": {},
   "outputs": [],
   "source": [
    "g = torch.Generator().manual_seed(42)\n",
    "C = torch.randn((38, 2), generator = g)\n",
    "W1 = torch.randn((6, 100), generator = g)\n",
    "b1 = torch.randn(100, generator = g)\n",
    "W2 = torch.randn((100, 38), generator = g)\n",
    "b2 = torch.randn(38, generator = g)\n",
    "params = [C, W1, b1, W2, b2]"
   ]
  },
  {
   "cell_type": "code",
   "execution_count": 136,
   "id": "2adc80b8",
   "metadata": {},
   "outputs": [
    {
     "name": "stdout",
     "output_type": "stream",
     "text": [
      "Total parameters: 4614\n"
     ]
    }
   ],
   "source": [
    "print('Total parameters:', sum(p.nelement() for p in params))"
   ]
  },
  {
   "cell_type": "code",
   "execution_count": 137,
   "id": "cdb8ffed",
   "metadata": {},
   "outputs": [],
   "source": [
    "for p in params:\n",
    "    p.requires_grad = True"
   ]
  },
  {
   "cell_type": "code",
   "execution_count": null,
   "id": "9a3deb77",
   "metadata": {
    "scrolled": true
   },
   "outputs": [],
   "source": [
    "# forward pass\n",
    "emb = C[X] # (14, 3, 2)\n",
    "h = torch.tanh(emb.view(emb.shape[0], 6) @ W1 + b1) # (14, 100)\n",
    "logits = h @ W2 + b2\n",
    "counts = logits.exp()\n",
    "prob = counts / counts.sum(1, keepdim = True)\n",
    "loss = -prob[torch.arange(14), y].log().mean()\n",
    "loss"
   ]
  },
  {
   "cell_type": "code",
   "execution_count": 52,
   "id": "87c6f25c",
   "metadata": {},
   "outputs": [
    {
     "data": {
      "text/plain": [
       "tensor(16.0037)"
      ]
     },
     "execution_count": 52,
     "metadata": {},
     "output_type": "execute_result"
    }
   ],
   "source": [
    "F.cross_entropy(logits, y) # softmax"
   ]
  },
  {
   "cell_type": "code",
   "execution_count": 53,
   "id": "aa9810d0",
   "metadata": {},
   "outputs": [
    {
     "data": {
      "text/plain": [
       "tensor(16.0037)"
      ]
     },
     "execution_count": 53,
     "metadata": {},
     "output_type": "execute_result"
    }
   ],
   "source": [
    "# therefore\n",
    "loss = F.cross_entropy(logits, y)\n",
    "loss"
   ]
  },
  {
   "cell_type": "code",
   "execution_count": 153,
   "id": "8d6649ac",
   "metadata": {
    "scrolled": true
   },
   "outputs": [],
   "source": [
    "for _ in range(10000):\n",
    "    \n",
    "    # performing updates on mini batches (FASTER)\n",
    "    ix = torch.randint(0, X.shape[0], (32, ))\n",
    "    \n",
    "    # forward pass\n",
    "    emb = C[X[ix]] # (32, 3, 2)\n",
    "    h = torch.tanh(emb.view(emb.shape[0], 6) @ W1 + b1) # (32, 100)\n",
    "    logits = h @ W2 + b2 # (32, 38)\n",
    "    loss = F.cross_entropy(logits,  y[ix])\n",
    "#     print(loss.item())\n",
    "\n",
    "    # backward pass\n",
    "    for p in params:\n",
    "        p.grad = None\n",
    "    loss.backward()\n",
    "    \n",
    "    # update\n",
    "    for p in params:\n",
    "        p.data += -0.1 * p.grad\n",
    "\n",
    "       "
   ]
  },
  {
   "cell_type": "code",
   "execution_count": 154,
   "id": "0d95d3eb",
   "metadata": {},
   "outputs": [
    {
     "name": "stdout",
     "output_type": "stream",
     "text": [
      "2.2179553508758545\n"
     ]
    }
   ],
   "source": [
    "emb = C[X] # (32, 3, 2)\n",
    "h = torch.tanh(emb.view(emb.shape[0], 6) @ W1 + b1) # (32, 100)\n",
    "logits = h @ W2 + b2 # (32, 38)\n",
    "loss = F.cross_entropy(logits,  y)\n",
    "print(loss.item())"
   ]
  },
  {
   "cell_type": "markdown",
   "id": "51b6f455",
   "metadata": {},
   "source": [
    "## Proper method"
   ]
  },
  {
   "cell_type": "markdown",
   "id": "4d8f96e0",
   "metadata": {},
   "source": [
    "Creating train, validation and test split"
   ]
  },
  {
   "cell_type": "code",
   "execution_count": 155,
   "id": "0cfe390d",
   "metadata": {},
   "outputs": [
    {
     "name": "stdout",
     "output_type": "stream",
     "text": [
      "torch.Size([833821, 3]) torch.Size([833821])\n",
      "torch.Size([104485, 3]) torch.Size([104485])\n",
      "torch.Size([104513, 3]) torch.Size([104513])\n"
     ]
    }
   ],
   "source": [
    "# build dataset\n",
    "\n",
    "def build_dataset(words):\n",
    "    block_size = 3\n",
    "    X, Y = [], []\n",
    "    for w in words:\n",
    "        context = [0] * block_size\n",
    "        for ch in w + '.':\n",
    "            ix = stoi[ch]\n",
    "            X.append(context)\n",
    "            Y.append(ix)\n",
    "            context = context[1:] + [ix]\n",
    "            \n",
    "    X = torch.tensor(X)\n",
    "    Y = torch.tensor(Y)\n",
    "    print(X.shape, Y.shape)\n",
    "    return X, Y\n",
    "\n",
    "import random\n",
    "random.seed(42)\n",
    "random.shuffle(words)\n",
    "n1 = int(0.8 * len(words))\n",
    "n2 = int(0.9 * len(words))\n",
    "\n",
    "Xtrain, Ytrain = build_dataset(words[:n1])\n",
    "Xval, Yval = build_dataset(words[n1:n2])\n",
    "Xtest, Ytest = build_dataset(words[n2:])"
   ]
  },
  {
   "cell_type": "code",
   "execution_count": 182,
   "id": "3538d64b",
   "metadata": {},
   "outputs": [
    {
     "data": {
      "text/plain": [
       "(torch.Size([833821, 3]), torch.Size([833821]))"
      ]
     },
     "execution_count": 182,
     "metadata": {},
     "output_type": "execute_result"
    }
   ],
   "source": [
    "Xtrain.shape, Ytrain.shape"
   ]
  },
  {
   "cell_type": "code",
   "execution_count": 227,
   "id": "f303484e",
   "metadata": {},
   "outputs": [],
   "source": [
    "g = torch.Generator().manual_seed(42)\n",
    "C = torch.randn((38, 2), generator = g)\n",
    "W1 = torch.randn((6, 200), generator = g)\n",
    "b1 = torch.randn(200, generator = g)\n",
    "W2 = torch.randn((200, 38), generator = g)\n",
    "b2 = torch.randn(38, generator = g)\n",
    "params = [C, W1, b1, W2, b2]"
   ]
  },
  {
   "cell_type": "code",
   "execution_count": 228,
   "id": "1c57cb54",
   "metadata": {},
   "outputs": [
    {
     "data": {
      "text/plain": [
       "9114"
      ]
     },
     "execution_count": 228,
     "metadata": {},
     "output_type": "execute_result"
    }
   ],
   "source": [
    "sum(p.nelement() for p in params)"
   ]
  },
  {
   "cell_type": "code",
   "execution_count": 229,
   "id": "44b46023",
   "metadata": {},
   "outputs": [],
   "source": [
    "for p in params:\n",
    "    p.requires_grad = True"
   ]
  },
  {
   "cell_type": "code",
   "execution_count": 230,
   "id": "1a3c94e7",
   "metadata": {},
   "outputs": [],
   "source": [
    "step_i = []\n",
    "loss_i = []"
   ]
  },
  {
   "cell_type": "code",
   "execution_count": 243,
   "id": "f7eeb351",
   "metadata": {},
   "outputs": [
    {
     "name": "stdout",
     "output_type": "stream",
     "text": [
      "2.453488349914551\n"
     ]
    }
   ],
   "source": [
    "for i in range(30000):\n",
    "    \n",
    "    ix = torch.randint(0, Xtrain.shape[0], (32, ))\n",
    "    \n",
    "    emb = C[Xtrain[ix]]\n",
    "    h = torch.tanh(emb.view(emb.shape[0], 6) @ W1 + b1)\n",
    "    logits = h @ W2 + b2\n",
    "    loss = F.cross_entropy(logits, Ytrain[ix])\n",
    "    \n",
    "    for p in params:\n",
    "        p.grad = None\n",
    "    \n",
    "    loss.backward()\n",
    "    \n",
    "    for p in params:\n",
    "        p.data += -0.1 * p.grad\n",
    "    \n",
    "    step_i.append(i)\n",
    "    loss_i.append(loss.log10().item())\n",
    "    \n",
    "print(loss.item())"
   ]
  },
  {
   "cell_type": "code",
   "execution_count": 244,
   "id": "38c5e874",
   "metadata": {},
   "outputs": [
    {
     "data": {
      "image/png": "[encoded data removed]",
      "text/plain": [
       "<Figure size 640x480 with 1 Axes>"
      ]
     },
     "metadata": {},
     "output_type": "display_data"
    }
   ],
   "source": [
    "plt.plot(step, lossi);"
   ]
  },
  {
   "cell_type": "code",
   "execution_count": 245,
   "id": "92a6dcb7",
   "metadata": {},
   "outputs": [
    {
     "data": {
      "text/plain": [
       "2.2552530765533447"
      ]
     },
     "execution_count": 245,
     "metadata": {},
     "output_type": "execute_result"
    }
   ],
   "source": [
    "emb = C[Xtrain]\n",
    "h = torch.tanh(emb.view(emb.shape[0], 6) @ W1 + b1)\n",
    "logits = h @ W2 + b2\n",
    "loss = F.cross_entropy(logits,  Ytrain)\n",
    "loss.item()"
   ]
  },
  {
   "cell_type": "code",
   "execution_count": 246,
   "id": "98a1165d",
   "metadata": {},
   "outputs": [
    {
     "data": {
      "text/plain": [
       "2.2619717121124268"
      ]
     },
     "execution_count": 246,
     "metadata": {},
     "output_type": "execute_result"
    }
   ],
   "source": [
    "emb = C[Xval]\n",
    "h = torch.tanh(emb.view(emb.shape[0], 6) @ W1 + b1)\n",
    "logits = h @ W2 + b2\n",
    "loss = F.cross_entropy(logits,  Yval)\n",
    "loss.item()"
   ]
  },
  {
   "cell_type": "code",
   "execution_count": 249,
   "id": "bb871f74",
   "metadata": {
    "scrolled": false
   },
   "outputs": [
    {
     "data": {
      "image/png": "[encoded data removed]",
      "text/plain": [
       "<Figure size 800x800 with 1 Axes>"
      ]
     },
     "metadata": {},
     "output_type": "display_data"
    }
   ],
   "source": [
    "plt.figure(figsize = (8, 8))\n",
    "plt.scatter(C[:, 0].data, C[:, 1].data, s = 200)\n",
    "for i in range(C.shape[0]):\n",
    "    plt.text(C[i, 0].item(), C[i, 1].item(), itos[i], ha = 'center', va = 'center', color = 'white')\n",
    "plt.grid('minor');"
   ]
  },
  {
   "cell_type": "markdown",
   "id": "a5ce9ea0",
   "metadata": {},
   "source": [
    "### sampling"
   ]
  },
  {
   "cell_type": "code",
   "execution_count": 250,
   "id": "d75c1b92",
   "metadata": {},
   "outputs": [
    {
     "name": "stdout",
     "output_type": "stream",
     "text": [
      "vidherixa.\n",
      "ref.\n",
      "rama_shi.\n",
      "helln_chss_lutsulugo_taka.\n",
      "himara.\n",
      "mo_yashirou.\n",
      "hen.\n",
      "maki_llemedsuka.\n",
      "orashirohara.\n",
      "miya.\n",
      "kaechirume_koshimagi.\n",
      "oufa.\n",
      "hebaka.\n",
      "shui.\n",
      "horg_chiur_ollin.\n",
      "churegurumi_nhel_mita.\n",
      "nen_ank.\n",
      "rafami.\n",
      "motowami_striamette.\n",
      "cherrls.\n"
     ]
    }
   ],
   "source": [
    "g = torch.Generator().manual_seed(42)\n",
    "\n",
    "for _ in range(20):\n",
    "    out = [] * block_size\n",
    "    while True:\n",
    "        emb = C[torch.tensor([context])] # initialize with '...'\n",
    "        h = torch.tanh(emb.view(emb.shape[0], 6) @ W1 + b1)\n",
    "        logits = h @ W2 + b2\n",
    "        probs = F.softmax(logits, dim = 1)\n",
    "        ix = torch.multinomial(probs, num_samples = 1, generator = g).item()\n",
    "        context = context[1:] + [ix]\n",
    "        out.append(ix)\n",
    "        if ix == 0:\n",
    "            break\n",
    "    print(''.join(itos[i] for i in out))\n",
    "    \n",
    "        "
   ]
  },
  {
   "cell_type": "code",
   "execution_count": null,
   "id": "04f37400",
   "metadata": {},
   "outputs": [],
   "source": []
  }
 ],
 "metadata": {
  "kernelspec": {
   "display_name": "Python 3 (ipykernel)",
   "language": "python",
   "name": "python3"
  },
  "language_info": {
   "codemirror_mode": {
    "name": "ipython",
    "version": 3
   },
   "file_extension": ".py",
   "mimetype": "text/x-python",
   "name": "python",
   "nbconvert_exporter": "python",
   "pygments_lexer": "ipython3",
   "version": "3.11.3"
  }
 },
 "nbformat": 4,
 "nbformat_minor": 5
}
